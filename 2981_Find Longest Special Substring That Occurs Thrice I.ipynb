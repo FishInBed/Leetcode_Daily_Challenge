{
 "cells": [
  {
   "cell_type": "markdown",
   "metadata": {},
   "source": [
    "### 2981. Find Longest Special Substring That Occurs Thrice I\n",
    "\n",
    "You are given a string `s` that consists of lowercase English letters.\n",
    "\n",
    "A string is called special if it is made up of only a single character. For example, the string `\"abc\"` is not special, whereas the strings `\"ddd\"`, `\"zz\"`, and `\"f\"` are special.\n",
    "\n",
    "Return the length of the longest special substring of `s` which occurs at least thrice, or `-1` if no special substring occurs at least thrice.\n",
    "\n",
    "A substring is a contiguous non-empty sequence of characters within a string."
   ]
  },
  {
   "cell_type": "markdown",
   "metadata": {},
   "source": [
    "#### 1st attemption\n",
    "\n",
    "- Runtime: 38ms\n",
    "- Memory Usage: 17.5Mb `O(n)`"
   ]
  },
  {
   "cell_type": "code",
   "execution_count": null,
   "metadata": {},
   "outputs": [],
   "source": [
    "def maximumLength(s: str) -> int:\n",
    "    if len(s) < 3:\n",
    "        return -1\n",
    "    elif len(set(list(s))) == len(s):\n",
    "        return -1\n",
    "    else:\n",
    "        alph_list = list(set(list(s)))\n",
    "        if len(alph_list) == 1:\n",
    "            return len(s) - 2\n",
    "        else:\n",
    "            temp_len = -1\n",
    "            for i in range(1,len(s)-2):\n",
    "                temp_alph_list = alph_list\n",
    "                if len(temp_alph_list) == 0:\n",
    "                    return temp_len\n",
    "                else:\n",
    "                    alph_list = []\n",
    "                    for alph in temp_alph_list:\n",
    "                        temp_count = 0\n",
    "                        print(temp_alph_list)\n",
    "                        idx = 0\n",
    "                        print(alph*i)\n",
    "                        while s.find(alph*i, idx) != -1:\n",
    "                            idx = s.find(alph*i, idx)+1\n",
    "                            temp_count += 1\n",
    "                        if temp_count >= 3:\n",
    "                            temp_len = i\n",
    "                            alph_list.append(alph)\n",
    "        return temp_len"
   ]
  }
 ],
 "metadata": {
  "kernelspec": {
   "display_name": "Python 3",
   "language": "python",
   "name": "python3"
  },
  "language_info": {
   "codemirror_mode": {
    "name": "ipython",
    "version": 3
   },
   "file_extension": ".py",
   "mimetype": "text/x-python",
   "name": "python",
   "nbconvert_exporter": "python",
   "pygments_lexer": "ipython3",
   "version": "3.11.4"
  }
 },
 "nbformat": 4,
 "nbformat_minor": 2
}
