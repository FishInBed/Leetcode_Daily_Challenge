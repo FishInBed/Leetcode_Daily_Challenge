{
 "cells": [
  {
   "cell_type": "markdown",
   "metadata": {},
   "source": [
    "### 2779. Maximum Beauty of an Array After Applying Operation\n",
    "\n",
    "You are given a **0-indexed** array `nums` and a **non-negative** integer `k`.\n",
    "\n",
    "In one operation, you can do the following:\n",
    "\n",
    "Choose an index `i` that **hasn't been chosen** before from the range `[0, nums.length - 1]`.\n",
    "Replace `nums[i]` with any integer from the range `[nums[i] - k, nums[i] + k]`.\n",
    "The beauty of the array is the length of the longest subsequence consisting of equal elements.\n",
    "\n",
    "Return the maximum possible beauty of the array nums after applying the operation any number of times.\n",
    "\n",
    "Note that you can apply the operation to each index only once.\n",
    "\n",
    "A subsequence of an array is a new array generated from the original array by deleting some elements (possibly none) without changing the order of the remaining elements."
   ]
  },
  {
   "cell_type": "markdown",
   "metadata": {},
   "source": [
    "#### 1st attemption\n",
    "\n",
    "- Runtime: 110ms\n",
    "- Memory Usage: 28.99Mb"
   ]
  },
  {
   "cell_type": "code",
   "execution_count": null,
   "metadata": {},
   "outputs": [],
   "source": [
    "def maximumBeauty(nums: list[int], k: int) -> int:\n",
    "    nums.sort()\n",
    "    size = 0\n",
    "    for num in nums:\n",
    "        if num - nums[size] > 2*k:\n",
    "            size += 1\n",
    "    return len(nums) - size"
   ]
  }
 ],
 "metadata": {
  "kernelspec": {
   "display_name": "Python 3",
   "language": "python",
   "name": "python3"
  },
  "language_info": {
   "codemirror_mode": {
    "name": "ipython",
    "version": 3
   },
   "file_extension": ".py",
   "mimetype": "text/x-python",
   "name": "python",
   "nbconvert_exporter": "python",
   "pygments_lexer": "ipython3",
   "version": "3.11.4"
  }
 },
 "nbformat": 4,
 "nbformat_minor": 2
}
